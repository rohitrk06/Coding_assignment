{
 "cells": [
  {
   "cell_type": "code",
   "execution_count": 1,
   "metadata": {},
   "outputs": [],
   "source": [
    "import pandas as pd"
   ]
  },
  {
   "cell_type": "code",
   "execution_count": 4,
   "metadata": {},
   "outputs": [
    {
     "name": "stderr",
     "output_type": "stream",
     "text": [
      "C:\\Users\\rohit\\AppData\\Local\\Temp\\ipykernel_10468\\214942217.py:1: DtypeWarning: Columns (77) have mixed types. Specify dtype option on import or set low_memory=False.\n",
      "  data = pd.read_csv(r'D:\\Coding_assignment\\data\\2016\\On_Time_On_Time_Performance_2016_1\\On_Time_On_Time_Performance_2016_1.csv')\n"
     ]
    }
   ],
   "source": [
    "data = pd.read_csv(r'D:\\Coding_assignment\\data\\2016\\On_Time_On_Time_Performance_2016_1\\On_Time_On_Time_Performance_2016_1.csv')\n",
    "data = data[[\"FlightDate\",\"Quarter\",\"Year\",\"Month\",\"DayofMonth\",\"DepTime\",\"DepDel15\",\"CRSDepTime\",\"DepDelayMinutes\",\"Origin\",\"Dest\",\"ArrTime\",\"CRSArrTime\",\"ArrDel15\",\"ArrDelayMinutes\"]]\n"
   ]
  },
  {
   "cell_type": "code",
   "execution_count": 6,
   "metadata": {},
   "outputs": [
    {
     "data": {
      "text/html": [
       "<div>\n",
       "<style scoped>\n",
       "    .dataframe tbody tr th:only-of-type {\n",
       "        vertical-align: middle;\n",
       "    }\n",
       "\n",
       "    .dataframe tbody tr th {\n",
       "        vertical-align: top;\n",
       "    }\n",
       "\n",
       "    .dataframe thead th {\n",
       "        text-align: right;\n",
       "    }\n",
       "</style>\n",
       "<table border=\"1\" class=\"dataframe\">\n",
       "  <thead>\n",
       "    <tr style=\"text-align: right;\">\n",
       "      <th></th>\n",
       "      <th>FlightDate</th>\n",
       "      <th>Quarter</th>\n",
       "      <th>Year</th>\n",
       "      <th>Month</th>\n",
       "      <th>DayofMonth</th>\n",
       "      <th>DepTime</th>\n",
       "      <th>DepDel15</th>\n",
       "      <th>CRSDepTime</th>\n",
       "      <th>DepDelayMinutes</th>\n",
       "      <th>Origin</th>\n",
       "      <th>Dest</th>\n",
       "      <th>ArrTime</th>\n",
       "      <th>CRSArrTime</th>\n",
       "      <th>ArrDel15</th>\n",
       "      <th>ArrDelayMinutes</th>\n",
       "    </tr>\n",
       "  </thead>\n",
       "  <tbody>\n",
       "    <tr>\n",
       "      <th>0</th>\n",
       "      <td>2016-01-06</td>\n",
       "      <td>1</td>\n",
       "      <td>2016</td>\n",
       "      <td>1</td>\n",
       "      <td>6</td>\n",
       "      <td>1057.0</td>\n",
       "      <td>0.0</td>\n",
       "      <td>1100</td>\n",
       "      <td>0.0</td>\n",
       "      <td>DFW</td>\n",
       "      <td>DTW</td>\n",
       "      <td>1432.0</td>\n",
       "      <td>1438</td>\n",
       "      <td>0.0</td>\n",
       "      <td>0.0</td>\n",
       "    </tr>\n",
       "    <tr>\n",
       "      <th>1</th>\n",
       "      <td>2016-01-07</td>\n",
       "      <td>1</td>\n",
       "      <td>2016</td>\n",
       "      <td>1</td>\n",
       "      <td>7</td>\n",
       "      <td>1056.0</td>\n",
       "      <td>0.0</td>\n",
       "      <td>1100</td>\n",
       "      <td>0.0</td>\n",
       "      <td>DFW</td>\n",
       "      <td>DTW</td>\n",
       "      <td>1426.0</td>\n",
       "      <td>1438</td>\n",
       "      <td>0.0</td>\n",
       "      <td>0.0</td>\n",
       "    </tr>\n",
       "    <tr>\n",
       "      <th>2</th>\n",
       "      <td>2016-01-08</td>\n",
       "      <td>1</td>\n",
       "      <td>2016</td>\n",
       "      <td>1</td>\n",
       "      <td>8</td>\n",
       "      <td>1055.0</td>\n",
       "      <td>0.0</td>\n",
       "      <td>1100</td>\n",
       "      <td>0.0</td>\n",
       "      <td>DFW</td>\n",
       "      <td>DTW</td>\n",
       "      <td>1445.0</td>\n",
       "      <td>1438</td>\n",
       "      <td>0.0</td>\n",
       "      <td>7.0</td>\n",
       "    </tr>\n",
       "    <tr>\n",
       "      <th>3</th>\n",
       "      <td>2016-01-09</td>\n",
       "      <td>1</td>\n",
       "      <td>2016</td>\n",
       "      <td>1</td>\n",
       "      <td>9</td>\n",
       "      <td>1102.0</td>\n",
       "      <td>0.0</td>\n",
       "      <td>1100</td>\n",
       "      <td>2.0</td>\n",
       "      <td>DFW</td>\n",
       "      <td>DTW</td>\n",
       "      <td>1433.0</td>\n",
       "      <td>1438</td>\n",
       "      <td>0.0</td>\n",
       "      <td>0.0</td>\n",
       "    </tr>\n",
       "    <tr>\n",
       "      <th>4</th>\n",
       "      <td>2016-01-10</td>\n",
       "      <td>1</td>\n",
       "      <td>2016</td>\n",
       "      <td>1</td>\n",
       "      <td>10</td>\n",
       "      <td>1240.0</td>\n",
       "      <td>1.0</td>\n",
       "      <td>1100</td>\n",
       "      <td>100.0</td>\n",
       "      <td>DFW</td>\n",
       "      <td>DTW</td>\n",
       "      <td>1631.0</td>\n",
       "      <td>1438</td>\n",
       "      <td>1.0</td>\n",
       "      <td>113.0</td>\n",
       "    </tr>\n",
       "  </tbody>\n",
       "</table>\n",
       "</div>"
      ],
      "text/plain": [
       "   FlightDate  Quarter  Year  Month  DayofMonth  DepTime  DepDel15  \\\n",
       "0  2016-01-06        1  2016      1           6   1057.0       0.0   \n",
       "1  2016-01-07        1  2016      1           7   1056.0       0.0   \n",
       "2  2016-01-08        1  2016      1           8   1055.0       0.0   \n",
       "3  2016-01-09        1  2016      1           9   1102.0       0.0   \n",
       "4  2016-01-10        1  2016      1          10   1240.0       1.0   \n",
       "\n",
       "   CRSDepTime  DepDelayMinutes Origin Dest  ArrTime  CRSArrTime  ArrDel15  \\\n",
       "0        1100              0.0    DFW  DTW   1432.0        1438       0.0   \n",
       "1        1100              0.0    DFW  DTW   1426.0        1438       0.0   \n",
       "2        1100              0.0    DFW  DTW   1445.0        1438       0.0   \n",
       "3        1100              2.0    DFW  DTW   1433.0        1438       0.0   \n",
       "4        1100            100.0    DFW  DTW   1631.0        1438       1.0   \n",
       "\n",
       "   ArrDelayMinutes  \n",
       "0              0.0  \n",
       "1              0.0  \n",
       "2              7.0  \n",
       "3              0.0  \n",
       "4            113.0  "
      ]
     },
     "execution_count": 6,
     "metadata": {},
     "output_type": "execute_result"
    }
   ],
   "source": [
    "data.head()"
   ]
  },
  {
   "cell_type": "code",
   "execution_count": 9,
   "metadata": {},
   "outputs": [
    {
     "data": {
      "text/plain": [
       "0         10.0\n",
       "1         10.0\n",
       "2         10.0\n",
       "3         11.0\n",
       "4         12.0\n",
       "          ... \n",
       "445822    12.0\n",
       "445823    17.0\n",
       "445824    10.0\n",
       "445825    13.0\n",
       "445826    19.0\n",
       "Name: time, Length: 445827, dtype: float64"
      ]
     },
     "execution_count": 9,
     "metadata": {},
     "output_type": "execute_result"
    }
   ],
   "source": [
    "data['time'] = data['DepTime'] // 100\n",
    "data['time']"
   ]
  },
  {
   "cell_type": "code",
   "execution_count": null,
   "metadata": {},
   "outputs": [],
   "source": []
  }
 ],
 "metadata": {
  "kernelspec": {
   "display_name": "Python 3",
   "language": "python",
   "name": "python3"
  },
  "language_info": {
   "codemirror_mode": {
    "name": "ipython",
    "version": 3
   },
   "file_extension": ".py",
   "mimetype": "text/x-python",
   "name": "python",
   "nbconvert_exporter": "python",
   "pygments_lexer": "ipython3",
   "version": "3.11.1"
  }
 },
 "nbformat": 4,
 "nbformat_minor": 2
}
